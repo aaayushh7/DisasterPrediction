{
 "cells": [
  {
   "cell_type": "code",
   "execution_count": 1,
   "id": "56063d21",
   "metadata": {},
   "outputs": [],
   "source": [
    "import pandas as pd \n",
    "import numpy as np\n",
    "import matplotlib.pyplot as plt \n",
    "import zipfile\n",
    "import seaborn as sns"
   ]
  },
  {
   "cell_type": "code",
   "execution_count": 2,
   "id": "a568c88a",
   "metadata": {},
   "outputs": [
    {
     "name": "stdout",
     "output_type": "stream",
     "text": [
      "Requirement already satisfied: wget in ./opt/anaconda3/lib/python3.9/site-packages (3.2)\r\n"
     ]
    }
   ],
   "source": [
    "!pip install wget"
   ]
  },
  {
   "cell_type": "code",
   "execution_count": 3,
   "id": "f2434033",
   "metadata": {},
   "outputs": [
    {
     "name": "stdout",
     "output_type": "stream",
     "text": [
      "\r",
      "  0% [                                                        ]      0 / 607343\r",
      "  1% [                                                        ]   8192 / 607343\r",
      "  2% [.                                                       ]  16384 / 607343\r",
      "  4% [..                                                      ]  24576 / 607343\r",
      "  5% [...                                                     ]  32768 / 607343\r",
      "  6% [...                                                     ]  40960 / 607343\r",
      "  8% [....                                                    ]  49152 / 607343\r",
      "  9% [.....                                                   ]  57344 / 607343\r",
      " 10% [......                                                  ]  65536 / 607343\r",
      " 12% [......                                                  ]  73728 / 607343\r",
      " 13% [.......                                                 ]  81920 / 607343\r",
      " 14% [........                                                ]  90112 / 607343\r",
      " 16% [.........                                               ]  98304 / 607343\r",
      " 17% [.........                                               ] 106496 / 607343\r",
      " 18% [..........                                              ] 114688 / 607343\r",
      " 20% [...........                                             ] 122880 / 607343\r",
      " 21% [............                                            ] 131072 / 607343\r",
      " 22% [............                                            ] 139264 / 607343\r",
      " 24% [.............                                           ] 147456 / 607343\r",
      " 25% [..............                                          ] 155648 / 607343\r",
      " 26% [...............                                         ] 163840 / 607343\r",
      " 28% [...............                                         ] 172032 / 607343\r",
      " 29% [................                                        ] 180224 / 607343\r",
      " 31% [.................                                       ] 188416 / 607343\r",
      " 32% [..................                                      ] 196608 / 607343\r",
      " 33% [..................                                      ] 204800 / 607343\r",
      " 35% [...................                                     ] 212992 / 607343\r",
      " 36% [....................                                    ] 221184 / 607343\r",
      " 37% [.....................                                   ] 229376 / 607343\r",
      " 39% [.....................                                   ] 237568 / 607343\r",
      " 40% [......................                                  ] 245760 / 607343\r",
      " 41% [.......................                                 ] 253952 / 607343\r",
      " 43% [........................                                ] 262144 / 607343\r",
      " 44% [........................                                ] 270336 / 607343\r",
      " 45% [.........................                               ] 278528 / 607343\r",
      " 47% [..........................                              ] 286720 / 607343\r",
      " 48% [...........................                             ] 294912 / 607343\r",
      " 49% [...........................                             ] 303104 / 607343\r",
      " 51% [............................                            ] 311296 / 607343\r",
      " 52% [.............................                           ] 319488 / 607343\r",
      " 53% [..............................                          ] 327680 / 607343\r",
      " 55% [..............................                          ] 335872 / 607343\r",
      " 56% [...............................                         ] 344064 / 607343\r",
      " 57% [................................                        ] 352256 / 607343\r",
      " 59% [.................................                       ] 360448 / 607343\r",
      " 60% [.................................                       ] 368640 / 607343\r",
      " 62% [..................................                      ] 376832 / 607343\r",
      " 63% [...................................                     ] 385024 / 607343\r",
      " 64% [....................................                    ] 393216 / 607343\r",
      " 66% [.....................................                   ] 401408 / 607343\r",
      " 67% [.....................................                   ] 409600 / 607343\r",
      " 68% [......................................                  ] 417792 / 607343\r",
      " 70% [.......................................                 ] 425984 / 607343\r",
      " 71% [........................................                ] 434176 / 607343\r",
      " 72% [........................................                ] 442368 / 607343\r",
      " 74% [.........................................               ] 450560 / 607343\r",
      " 75% [..........................................              ] 458752 / 607343\r",
      " 76% [...........................................             ] 466944 / 607343\r",
      " 78% [...........................................             ] 475136 / 607343\r",
      " 79% [............................................            ] 483328 / 607343\r",
      " 80% [.............................................           ] 491520 / 607343\r",
      " 82% [..............................................          ] 499712 / 607343\r",
      " 83% [..............................................          ] 507904 / 607343\r",
      " 84% [...............................................         ] 516096 / 607343\r",
      " 86% [................................................        ] 524288 / 607343\r",
      " 87% [.................................................       ] 532480 / 607343\r",
      " 89% [.................................................       ] 540672 / 607343\r",
      " 90% [..................................................      ] 548864 / 607343\r",
      " 91% [...................................................     ] 557056 / 607343\r",
      " 93% [....................................................    ] 565248 / 607343\r",
      " 94% [....................................................    ] 573440 / 607343\r",
      " 95% [.....................................................   ] 581632 / 607343\r",
      " 97% [......................................................  ] 589824 / 607343\r",
      " 98% [....................................................... ] 598016 / 607343\r",
      " 99% [....................................................... ] 606208 / 607343\r",
      "100% [........................................................] 607343 / 607343"
     ]
    }
   ],
   "source": [
    "import wget\n",
    "URL = \"https://storage.googleapis.com/ztm_tf_course/nlp_getting_started.zip\"\n",
    "response = wget.download(URL, \"nlp_getting_started.zip\")"
   ]
  },
  {
   "cell_type": "code",
   "execution_count": 4,
   "id": "44c63471",
   "metadata": {},
   "outputs": [],
   "source": [
    "def unzip_data(filename):\n",
    "  \"\"\"\n",
    "  Unzips filename into the current working directory.\n",
    "\n",
    "  Args:\n",
    "    filename (str): a filepath to a target zip folder to be unzipped.\n",
    "  \"\"\"\n",
    "  zip_ref = zipfile.ZipFile(filename, \"r\")\n",
    "  zip_ref.extractall()\n",
    "  zip_ref.close()\n",
    "# Unzip data\n",
    "unzip_data(\"nlp_getting_started.zip\")"
   ]
  },
  {
   "cell_type": "code",
   "execution_count": 5,
   "id": "efe22458",
   "metadata": {},
   "outputs": [],
   "source": [
    "train_df = pd.read_csv(\"train.csv\")\n",
    "test_df = pd.read_csv(\"test.csv\")\n",
    "train_df.head()\n",
    "train_df = train_df.sample(frac=1, random_state=42)"
   ]
  },
  {
   "cell_type": "code",
   "execution_count": 6,
   "id": "8f715c9a",
   "metadata": {},
   "outputs": [
    {
     "data": {
      "text/html": [
       "<div>\n",
       "<style scoped>\n",
       "    .dataframe tbody tr th:only-of-type {\n",
       "        vertical-align: middle;\n",
       "    }\n",
       "\n",
       "    .dataframe tbody tr th {\n",
       "        vertical-align: top;\n",
       "    }\n",
       "\n",
       "    .dataframe thead th {\n",
       "        text-align: right;\n",
       "    }\n",
       "</style>\n",
       "<table border=\"1\" class=\"dataframe\">\n",
       "  <thead>\n",
       "    <tr style=\"text-align: right;\">\n",
       "      <th></th>\n",
       "      <th>id</th>\n",
       "      <th>keyword</th>\n",
       "      <th>location</th>\n",
       "      <th>text</th>\n",
       "      <th>target</th>\n",
       "    </tr>\n",
       "  </thead>\n",
       "  <tbody>\n",
       "    <tr>\n",
       "      <th>2644</th>\n",
       "      <td>3796</td>\n",
       "      <td>destruction</td>\n",
       "      <td>NaN</td>\n",
       "      <td>So you have a new weapon that can cause un-ima...</td>\n",
       "      <td>1</td>\n",
       "    </tr>\n",
       "    <tr>\n",
       "      <th>2227</th>\n",
       "      <td>3185</td>\n",
       "      <td>deluge</td>\n",
       "      <td>NaN</td>\n",
       "      <td>The f$&amp;amp;@ing things I do for #GISHWHES Just...</td>\n",
       "      <td>0</td>\n",
       "    </tr>\n",
       "    <tr>\n",
       "      <th>5448</th>\n",
       "      <td>7769</td>\n",
       "      <td>police</td>\n",
       "      <td>UK</td>\n",
       "      <td>DT @georgegalloway: RT @Galloway4Mayor: ÛÏThe...</td>\n",
       "      <td>1</td>\n",
       "    </tr>\n",
       "    <tr>\n",
       "      <th>132</th>\n",
       "      <td>191</td>\n",
       "      <td>aftershock</td>\n",
       "      <td>NaN</td>\n",
       "      <td>Aftershock back to school kick off was great. ...</td>\n",
       "      <td>0</td>\n",
       "    </tr>\n",
       "    <tr>\n",
       "      <th>6845</th>\n",
       "      <td>9810</td>\n",
       "      <td>trauma</td>\n",
       "      <td>Montgomery County, MD</td>\n",
       "      <td>in response to trauma Children of Addicts deve...</td>\n",
       "      <td>0</td>\n",
       "    </tr>\n",
       "  </tbody>\n",
       "</table>\n",
       "</div>"
      ],
      "text/plain": [
       "        id      keyword               location  \\\n",
       "2644  3796  destruction                    NaN   \n",
       "2227  3185       deluge                    NaN   \n",
       "5448  7769       police                     UK   \n",
       "132    191   aftershock                    NaN   \n",
       "6845  9810       trauma  Montgomery County, MD   \n",
       "\n",
       "                                                   text  target  \n",
       "2644  So you have a new weapon that can cause un-ima...       1  \n",
       "2227  The f$&amp;@ing things I do for #GISHWHES Just...       0  \n",
       "5448  DT @georgegalloway: RT @Galloway4Mayor: ÛÏThe...       1  \n",
       "132   Aftershock back to school kick off was great. ...       0  \n",
       "6845  in response to trauma Children of Addicts deve...       0  "
      ]
     },
     "execution_count": 6,
     "metadata": {},
     "output_type": "execute_result"
    }
   ],
   "source": [
    "train_df.head()"
   ]
  },
  {
   "cell_type": "code",
   "execution_count": 7,
   "id": "1ceed829",
   "metadata": {},
   "outputs": [],
   "source": [
    "from sklearn.model_selection import train_test_split\n",
    "# Use train_test_split to split training data into training and validation sets\n",
    "train_sentences, val_sentences, train_labels, val_labels = train_test_split(train_df[\"text\"].to_numpy(),\n",
    "                                                                            train_df[\"target\"].to_numpy(),\n",
    "                                                                            test_size=0.1,random_state=42)"
   ]
  },
  {
   "cell_type": "code",
   "execution_count": 8,
   "id": "0e3d7798",
   "metadata": {},
   "outputs": [
    {
     "data": {
      "text/plain": [
       "(6851, 6851, 762, 762)"
      ]
     },
     "execution_count": 8,
     "metadata": {},
     "output_type": "execute_result"
    }
   ],
   "source": [
    "len(train_sentences), len(train_labels), len(val_sentences), len(val_labels)"
   ]
  },
  {
   "cell_type": "code",
   "execution_count": 9,
   "id": "59c87ce1",
   "metadata": {},
   "outputs": [],
   "source": [
    "from sklearn.feature_extraction.text import TfidfVectorizer\n",
    "from sklearn.naive_bayes import MultinomialNB\n",
    "from sklearn.pipeline import Pipeline\n",
    "\n",
    "model = Pipeline([\n",
    "                    (\"tfidf\", TfidfVectorizer()), # convert words to numbers using tfidf\n",
    "                    (\"Bayes_Classifier\", MultinomialNB()) # model the text\n",
    "])"
   ]
  },
  {
   "cell_type": "code",
   "execution_count": 10,
   "id": "64f22e67",
   "metadata": {},
   "outputs": [
    {
     "data": {
      "text/plain": [
       "Pipeline(steps=[('tfidf', TfidfVectorizer()),\n",
       "                ('Bayes_Classifier', MultinomialNB())])"
      ]
     },
     "execution_count": 10,
     "metadata": {},
     "output_type": "execute_result"
    }
   ],
   "source": [
    "model.fit(train_sentences,train_labels)"
   ]
  },
  {
   "cell_type": "code",
   "execution_count": 11,
   "id": "95924ae3",
   "metadata": {},
   "outputs": [],
   "source": [
    "val_pred = model.predict(val_sentences)"
   ]
  },
  {
   "cell_type": "code",
   "execution_count": 12,
   "id": "e7bf9f8c",
   "metadata": {},
   "outputs": [],
   "source": [
    "from sklearn.metrics import classification_report as cr \n",
    "from sklearn.metrics import confusion_matrix as cm"
   ]
  },
  {
   "cell_type": "code",
   "execution_count": 13,
   "id": "06da7383",
   "metadata": {},
   "outputs": [
    {
     "name": "stdout",
     "output_type": "stream",
     "text": [
      "              precision    recall  f1-score   support\n",
      "\n",
      "           0       0.75      0.93      0.83       414\n",
      "           1       0.89      0.63      0.73       348\n",
      "\n",
      "    accuracy                           0.79       762\n",
      "   macro avg       0.82      0.78      0.78       762\n",
      "weighted avg       0.81      0.79      0.79       762\n",
      "\n"
     ]
    }
   ],
   "source": [
    "print(cr(val_labels,val_pred))"
   ]
  },
  {
   "cell_type": "code",
   "execution_count": 14,
   "id": "7fa57e2f",
   "metadata": {},
   "outputs": [
    {
     "name": "stdout",
     "output_type": "stream",
     "text": [
      "[[386  28]\n",
      " [130 218]]\n"
     ]
    }
   ],
   "source": [
    "print(cm(val_labels,val_pred))"
   ]
  },
  {
   "cell_type": "code",
   "execution_count": 15,
   "id": "63038df4",
   "metadata": {},
   "outputs": [
    {
     "data": {
      "text/plain": [
       "[Text(0, 0.5, 'No Disaster'), Text(0, 1.5, 'Disaster')]"
      ]
     },
     "execution_count": 15,
     "metadata": {},
     "output_type": "execute_result"
    },
    {
     "data": {
      "image/png": "[encoded data removed]",
      "text/plain": [
       "<Figure size 432x288 with 2 Axes>"
      ]
     },
     "metadata": {
      "needs_background": "light"
     },
     "output_type": "display_data"
    }
   ],
   "source": [
    "confusion_matrix = cm(val_labels,val_pred)\n",
    "ax = sns.heatmap(confusion_matrix, annot=True,fmt='d',cmap='Reds')\n",
    "ax.set_title(\"Confusion Matrix\");\n",
    "ax.set_xlabel('\\nPrediction')\n",
    "ax.set_ylabel('Ground Truth');\n",
    "\n",
    "## Ticket labels - List must be in alphabetical order\n",
    "ax.xaxis.set_ticklabels(['No Disaster','Disaster'])\n",
    "ax.yaxis.set_ticklabels(['No Disaster','Disaster'])"
   ]
  },
  {
   "cell_type": "code",
   "execution_count": 22,
   "id": "46df28fd",
   "metadata": {},
   "outputs": [],
   "source": [
    "text = \"Marriage\"\n",
    "\n",
    "pred = model.predict([text])"
   ]
  },
  {
   "cell_type": "code",
   "execution_count": 23,
   "id": "237022be",
   "metadata": {},
   "outputs": [
    {
     "name": "stdout",
     "output_type": "stream",
     "text": [
      "The given statement is related to a disater\n"
     ]
    }
   ],
   "source": [
    "if pred[0]==0:\n",
    "    print(\"The given statement is not related to a disaster\")\n",
    "else :\n",
    "    print(\"The given statement is related to a disater\")"
   ]
  },
  {
   "cell_type": "code",
   "execution_count": null,
   "id": "33d27b01",
   "metadata": {},
   "outputs": [],
   "source": []
  }
 ],
 "metadata": {
  "kernelspec": {
   "display_name": "Python 3 (ipykernel)",
   "language": "python",
   "name": "python3"
  },
  "language_info": {
   "codemirror_mode": {
    "name": "ipython",
    "version": 3
   },
   "file_extension": ".py",
   "mimetype": "text/x-python",
   "name": "python",
   "nbconvert_exporter": "python",
   "pygments_lexer": "ipython3",
   "version": "3.9.12"
  }
 },
 "nbformat": 4,
 "nbformat_minor": 5
}
